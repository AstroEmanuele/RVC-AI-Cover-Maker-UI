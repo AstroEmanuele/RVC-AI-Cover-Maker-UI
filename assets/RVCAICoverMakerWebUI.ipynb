{
  "nbformat": 4,
  "nbformat_minor": 0,
  "metadata": {
    "colab": {
      "provenance": [],
      "gpuType": "T4"
    },
    "kernelspec": {
      "name": "python3",
      "display_name": "Python 3"
    },
    "language_info": {
      "name": "python"
    },
    "accelerator": "GPU"
  },
  "cells": [
    {
      "cell_type": "markdown",
      "source": [
        "# **RVC AI Cover Maker Web UI**\n",
        "- Created by [Shirou](https://github.com/ShiromiyaG)\n",
        "<br>This colab uses the following projects:\n",
        "- [Music Source Separation Universal Training Code](https://github.com/ZFTurbo/Music-Source-Separation-Training) by [ZFTurbo](https://github.com/ZFTurbo)\n",
        "- [Applio](https://github.com/IAHispano/Applio) by [IAHispano](https://github.com/IAHispano)"
      ],
      "metadata": {
        "id": "c9P4leWNHMnk"
      }
    },
    {
      "cell_type": "code",
      "execution_count": null,
      "metadata": {
        "cellView": "form",
        "id": "T17zRP0AHKMo"
      },
      "outputs": [],
      "source": [
        "#@title ## **Install**\n",
        "!git clone https://github.com/ShiromiyaG/RVC-AI-Cover-Maker-WebUI.git\n",
        "%cd RVC-AI-Cover-Maker-WebUI\n",
        "!git clone https://github.com/ZFTurbo/Music-Source-Separation-Training.git programs/Music-Source-Separation-Training\n",
        "!rm \"programs/Music-Source-Separation-Training/inference.py\"\n",
        "!curl -o \"programs/Music-Source-Separation-Training/inference.py\" \"https://raw.githubusercontent.com/ShiromiyaG/RVC-AI-Cover-Maker/v2/Utils/inference.py\"\n",
        "!git clone https://github.com/IAHispano/Applio.git programs/Applio\n",
        "!pip install uv\n",
        "!uv venv .venv\n",
        "!uv pip install -r requirements.txt\n",
        "!python programs/Applio/core.py prerequisites --pretraineds_v1 \"False\" --pretraineds_v2 \"False\" --models \"True\" --exe \"True\""
      ]
    },
    {
      "cell_type": "code",
      "source": [
        "#@title ## **Start**\n",
        "!source /content/.venv/bin/activate; python main.py\n",
        "\n",
        "while True:\n",
        "  time.sleep(5)"
      ],
      "metadata": {
        "cellView": "form",
        "id": "3SFugx7VLCGq"
      },
      "execution_count": null,
      "outputs": []
    }
  ]
}